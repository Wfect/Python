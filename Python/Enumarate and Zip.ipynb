{
 "cells": [
  {
   "cell_type": "code",
   "execution_count": 1,
   "metadata": {},
   "outputs": [],
   "source": [
    "# Enumarate, bir dizi, liste veya başka bir iterable nesne üzerinde loop yaparken hem elemanlarına hem de indislerine erişmek için kullanılır.\n",
    "# Her loop adımında bir elemanın değerini ve o elemanın indisini döndürür."
   ]
  },
  {
   "cell_type": "code",
   "execution_count": 2,
   "metadata": {},
   "outputs": [],
   "source": [
    "ögrenciler = ['ögrenci1','ögrenci2','ögrenci3']"
   ]
  },
  {
   "cell_type": "code",
   "execution_count": 4,
   "metadata": {},
   "outputs": [
    {
     "name": "stdout",
     "output_type": "stream",
     "text": [
      "0 ['ögrenci1', 'ögrenci2', 'ögrenci3']\n",
      "1 ['ögrenci1', 'ögrenci2', 'ögrenci3']\n",
      "2 ['ögrenci1', 'ögrenci2', 'ögrenci3']\n"
     ]
    }
   ],
   "source": [
    "for index, i in enumerate(ögrenciler):\n",
    "    print(index,ögrenciler)"
   ]
  },
  {
   "cell_type": "code",
   "execution_count": 5,
   "metadata": {},
   "outputs": [],
   "source": [
    "# Zip, birden fazla liste veya iterable nesneyi birleştirerek her bir listeden karşılıklı elemanları içeren yeni bir iterable nesne oluşturur.\n",
    "# Bu yeni iterable nesne, her bir listedeki elemanları demetler halinde gruplar."
   ]
  },
  {
   "cell_type": "code",
   "execution_count": 6,
   "metadata": {},
   "outputs": [],
   "source": [
    "ögrenciler = ['ögrenci1','ögrenci2','ögrenci3']\n",
    "numara = [80,85,90]"
   ]
  },
  {
   "cell_type": "code",
   "execution_count": 7,
   "metadata": {},
   "outputs": [
    {
     "name": "stdout",
     "output_type": "stream",
     "text": [
      "ögrenci1 80\n",
      "ögrenci2 85\n",
      "ögrenci3 90\n"
     ]
    }
   ],
   "source": [
    "for ögrenciler, numara in zip(ögrenciler,numara):\n",
    "    print(ögrenciler,numara)"
   ]
  },
  {
   "cell_type": "code",
   "execution_count": null,
   "metadata": {},
   "outputs": [],
   "source": []
  }
 ],
 "metadata": {
  "kernelspec": {
   "display_name": "Python 3",
   "language": "python",
   "name": "python3"
  },
  "language_info": {
   "codemirror_mode": {
    "name": "ipython",
    "version": 3
   },
   "file_extension": ".py",
   "mimetype": "text/x-python",
   "name": "python",
   "nbconvert_exporter": "python",
   "pygments_lexer": "ipython3",
   "version": "3.11.4"
  },
  "orig_nbformat": 4
 },
 "nbformat": 4,
 "nbformat_minor": 2
}
